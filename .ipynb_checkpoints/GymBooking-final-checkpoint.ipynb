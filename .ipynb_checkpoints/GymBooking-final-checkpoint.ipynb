{
 "cells": [
  {
   "cell_type": "markdown",
   "metadata": {},
   "source": [
    "# Packages Used"
   ]
  },
  {
   "cell_type": "code",
   "execution_count": 1,
   "metadata": {},
   "outputs": [],
   "source": [
    "from selenium import webdriver\n",
    "from selenium.webdriver.support.ui import WebDriverWait\n",
    "from selenium.webdriver.support import expected_conditions as EC\n",
    "from selenium.webdriver.common.by import By\n",
    "from selenium.webdriver.chrome.options import Options\n",
    "from datetime import datetime\n",
    "import time\n",
    "import pause\n",
    "import schedule"
   ]
  },
  {
   "cell_type": "markdown",
   "metadata": {},
   "source": [
    "# Information"
   ]
  },
  {
   "cell_type": "code",
   "execution_count": 2,
   "metadata": {},
   "outputs": [],
   "source": [
    "#\n",
    "StudentNo = \"18302681\"\n",
    "GymType = \"Po\" #Pe for Performance or Po for Pool\n",
    "GymHour = 12 #24 hour format for hour as seem on Gym timetable\n",
    "GymMin = 0 #0-60 for minutes as seem on Gym timetable"
   ]
  },
  {
   "cell_type": "markdown",
   "metadata": {},
   "source": [
    "# Gym Booking Normal"
   ]
  },
  {
   "cell_type": "code",
   "execution_count": 3,
   "metadata": {},
   "outputs": [
    {
     "name": "stdout",
     "output_type": "stream",
     "text": [
      "The gym has been booked at 12:00 at the Po gym!\n"
     ]
    }
   ],
   "source": [
    "if GymMin == 0:\n",
    "    GymMin = \"00\"\n",
    "else:\n",
    "    GymMin = GymMin\n",
    "GymTime = str(GymHour)+\":\"+str(GymMin) \n",
    "chromeoptions = Options()\n",
    "chromeoptions.headless = True\n",
    "#web = webdriver.Chrome(executable_path=\"./chromedriver\", options=chromeoptions)\n",
    "web = webdriver.Chrome(executable_path=\"./chromedriver\")\n",
    "web.get(\"https://hub.ucd.ie/usis/W_HU_MENU.P_PUBLISH?p_tag=GYMBOOK\")\n",
    "pause.until(datetime(datetime.now().year, datetime.now().month,\n",
    "            datetime.now().day, GymHour-3, int(GymMin), 1))\n",
    "web.find_element_by_xpath('//*[@id=\"main\"]/div[2]/div/div[1]/a').click()\n",
    "numbers = [0, 1, 2, 3, 4, 5, 6, 7, 8, 9, 10,\n",
    "        11, 12, 13, 14, 15, 16, 17, 18, 19, 20, 21]\n",
    "try:\n",
    "    for i in numbers:    \n",
    "        tableid = str(\"SW300-1|\")+str(i)\n",
    "        tableinfo = web.find_element_by_xpath('//*[@id=\"' + str(tableid)+'\"]')\n",
    "        if tableinfo.text[0:5] == GymTime and tableinfo.text[6:8] == GymType:\n",
    "            web.find_element_by_xpath('//*[@id=\"' + str(tableid)+'\"]/td[6]/a').click()\n",
    "            WebDriverWait(web,10).until(EC.presence_of_element_located((By.ID,'onetrust-banner-sdk')))\n",
    "            web.find_element_by_xpath('//*[@id=\"onetrust-accept-btn-handler\"]').click()\n",
    "            web.find_element_by_xpath('//*[@id=\"single-column-content\"]/div/div/div/div[2]/div/form/input[4]').send_keys(StudentNo)\n",
    "            web.find_element_by_xpath('//*[@id=\"single-column-content\"]/div/div/div/div[2]/div/form/input[5]').click()\n",
    "            time.sleep(5)\n",
    "            web.find_element_by_xpath('//*[@id=\"single-column-content\"]/div/div/div/div[2]/div/a[1]').click()\n",
    "            print(\"The gym has been booked at \" + GymTime + \" at the \" + GymType +\" gym!\")\n",
    "            web.close()\n",
    "            break\n",
    "        else:\n",
    "            continue\n",
    "except Exception as e:\n",
    "    print(\"The gym slots must already be booked up\")\n"
   ]
  },
  {
   "cell_type": "markdown",
   "metadata": {},
   "source": [
    "# Refresh constantly to get a spot at a certain time (useful if missed and want to be the first one if it comes up again)"
   ]
  },
  {
   "cell_type": "code",
   "execution_count": 4,
   "metadata": {},
   "outputs": [
    {
     "name": "stdout",
     "output_type": "stream",
     "text": [
      "The gym slots must already be booked up\n",
      "The gym slots must already be booked up\n",
      "The gym slots must already be booked up\n",
      "The gym slots must already be booked up\n",
      "The gym slots must already be booked up\n",
      "The gym slots must already be booked up\n",
      "The gym slots must already be booked up\n",
      "The gym slots must already be booked up\n",
      "The gym slots must already be booked up\n"
     ]
    },
    {
     "name": "stderr",
     "output_type": "stream",
     "text": [
      "Exception ignored in: <function Service.__del__ at 0x000001CFD3922040>\n",
      "Traceback (most recent call last):\n",
      "  File \"C:\\Users\\Adriaan\\AppData\\Local\\Packages\\PythonSoftwareFoundation.Python.3.9_qbz5n2kfra8p0\\LocalCache\\local-packages\\Python39\\site-packages\\selenium\\webdriver\\common\\service.py\", line 176, in __del__\n",
      "    self.stop()\n",
      "  File \"C:\\Users\\Adriaan\\AppData\\Local\\Packages\\PythonSoftwareFoundation.Python.3.9_qbz5n2kfra8p0\\LocalCache\\local-packages\\Python39\\site-packages\\selenium\\webdriver\\common\\service.py\", line 151, in stop\n",
      "    self.send_remote_shutdown_command()\n",
      "  File \"C:\\Users\\Adriaan\\AppData\\Local\\Packages\\PythonSoftwareFoundation.Python.3.9_qbz5n2kfra8p0\\LocalCache\\local-packages\\Python39\\site-packages\\selenium\\webdriver\\common\\service.py\", line 132, in send_remote_shutdown_command\n",
      "    if not self.is_connectable():\n",
      "  File \"C:\\Users\\Adriaan\\AppData\\Local\\Packages\\PythonSoftwareFoundation.Python.3.9_qbz5n2kfra8p0\\LocalCache\\local-packages\\Python39\\site-packages\\selenium\\webdriver\\common\\service.py\", line 115, in is_connectable\n",
      "    return utils.is_connectable(self.port)\n",
      "  File \"C:\\Users\\Adriaan\\AppData\\Local\\Packages\\PythonSoftwareFoundation.Python.3.9_qbz5n2kfra8p0\\LocalCache\\local-packages\\Python39\\site-packages\\selenium\\webdriver\\common\\utils.py\", line 106, in is_connectable\n",
      "    socket_ = socket.create_connection((host, port), 1)\n",
      "  File \"C:\\Program Files\\WindowsApps\\PythonSoftwareFoundation.Python.3.9_3.9.2032.0_x64__qbz5n2kfra8p0\\lib\\socket.py\", line 832, in create_connection\n",
      "    sock.connect(sa)\n",
      "KeyboardInterrupt: \n"
     ]
    },
    {
     "name": "stdout",
     "output_type": "stream",
     "text": [
      "The gym slots must already be booked up\n",
      "The gym slots must already be booked up\n",
      "The gym slots must already be booked up\n"
     ]
    }
   ],
   "source": [
    "if GymMin == 0:\n",
    "    GymMin = \"00\"\n",
    "else:\n",
    "    GymMin = GymMin\n",
    "GymTime = str(GymHour)+\":\"+str(GymMin) \n",
    "result = None\n",
    "while result is None:\n",
    "    chromeoptions = Options()\n",
    "    chromeoptions.headless = True\n",
    "    web = webdriver.Chrome(executable_path=\"./chromedriver\", options=chromeoptions)\n",
    "    #web = webdriver.Chrome(executable_path=\"./chromedriver\")\n",
    "    web.get(\"https://hub.ucd.ie/usis/W_HU_MENU.P_PUBLISH?p_tag=GYMBOOK\")\n",
    "    pause.until(datetime(datetime.now().year, datetime.now().month,\n",
    "                datetime.now().day, GymHour-3, int(GymMin), 1))\n",
    "    web.find_element_by_xpath('//*[@id=\"main\"]/div[2]/div/div[1]/a').click()\n",
    "    numbers = [0, 1, 2, 3, 4, 5, 6, 7, 8, 9, 10,\n",
    "            11, 12, 13, 14, 15, 16, 17, 18, 19, 20, 21]\n",
    "    try:\n",
    "        for i in numbers:    \n",
    "            tableid = str(\"SW300-1|\")+str(i)\n",
    "            tableinfo = web.find_element_by_xpath('//*[@id=\"' + str(tableid)+'\"]')\n",
    "            if tableinfo.text[0:5] == GymTime and tableinfo.text[6:8] == GymType:\n",
    "                web.find_element_by_xpath('//*[@id=\"' + str(tableid)+'\"]/td[6]/a').click()\n",
    "                WebDriverWait(web,10).until(EC.presence_of_element_located((By.ID,'onetrust-banner-sdk')))\n",
    "                web.find_element_by_xpath('//*[@id=\"onetrust-accept-btn-handler\"]').click()\n",
    "                web.find_element_by_xpath('//*[@id=\"single-column-content\"]/div/div/div/div[2]/div/form/input[4]').send_keys(StudentNo)\n",
    "                web.find_element_by_xpath('//*[@id=\"single-column-content\"]/div/div/div/div[2]/div/form/input[5]').click()\n",
    "                time.sleep(5)\n",
    "                web.find_element_by_xpath('//*[@id=\"single-column-content\"]/div/div/div/div[2]/div/a[1]').click()\n",
    "                print(\"The gym has been booked at \" + GymTime + \" at the \" + GymType +\" gym!\")\n",
    "                web.close()\n",
    "                result = tableinfo.text\n",
    "                break\n",
    "            else:\n",
    "                continue\n",
    "    except Exception as e:\n",
    "        print(\"The gym slots must already be booked up\")\n"
   ]
  },
  {
   "cell_type": "code",
   "execution_count": null,
   "metadata": {},
   "outputs": [],
   "source": []
  }
 ],
 "metadata": {
  "interpreter": {
   "hash": "eb0707977b934c4e8bf1c640b6a1e9229c717c4587193114f4ab7b74be0097b1"
  },
  "kernelspec": {
   "display_name": "Python 3",
   "language": "python",
   "name": "python3"
  },
  "language_info": {
   "codemirror_mode": {
    "name": "ipython",
    "version": 3
   },
   "file_extension": ".py",
   "mimetype": "text/x-python",
   "name": "python",
   "nbconvert_exporter": "python",
   "pygments_lexer": "ipython3",
   "version": "3.7.3"
  }
 },
 "nbformat": 4,
 "nbformat_minor": 2
}
